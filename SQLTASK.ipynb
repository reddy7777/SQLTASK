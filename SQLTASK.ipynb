{
  "nbformat": 4,
  "nbformat_minor": 0,
  "metadata": {
    "colab": {
      "name": "SQLTASK.ipynb",
      "provenance": []
    },
    "kernelspec": {
      "name": "python3",
      "display_name": "Python 3"
    },
    "language_info": {
      "name": "python"
    }
  },
  "cells": [
    {
      "cell_type": "code",
      "source": [
        "pip install -U pandasql"
      ],
      "metadata": {
        "id": "gs-pGTXwjI4d"
      },
      "execution_count": null,
      "outputs": []
    },
    {
      "cell_type": "code",
      "execution_count": 45,
      "metadata": {
        "id": "YliWPzbhi8Lo"
      },
      "outputs": [],
      "source": [
        "import pandas as pd\n",
        "import numpy as np\n",
        "import pandasql as ps"
      ]
    },
    {
      "cell_type": "code",
      "source": [
        "from google.colab import files\n",
        "files.upload()"
      ],
      "metadata": {
        "colab": {
          "resources": {
            "http://localhost:8080/nbextensions/google.colab/files.js": {
              "data": "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",
              "ok": true,
              "headers": [
                [
                  "content-type",
                  "application/javascript"
                ]
              ],
              "status": 200,
              "status_text": ""
            }
          },
          "base_uri": "https://localhost:8080/",
          "height": 113
        },
        "id": "mqjvqZrojQIp",
        "outputId": "e150a35b-97a9-431f-969e-ca645b633592"
      },
      "execution_count": 46,
      "outputs": [
        {
          "output_type": "display_data",
          "data": {
            "text/plain": [
              "<IPython.core.display.HTML object>"
            ],
            "text/html": [
              "\n",
              "     <input type=\"file\" id=\"files-5a2765b6-f012-4d8f-81d9-a91fb2825599\" name=\"files[]\" multiple disabled\n",
              "        style=\"border:none\" />\n",
              "     <output id=\"result-5a2765b6-f012-4d8f-81d9-a91fb2825599\">\n",
              "      Upload widget is only available when the cell has been executed in the\n",
              "      current browser session. Please rerun this cell to enable.\n",
              "      </output>\n",
              "      <script src=\"/nbextensions/google.colab/files.js\"></script> "
            ]
          },
          "metadata": {}
        },
        {
          "output_type": "stream",
          "name": "stdout",
          "text": [
            "Saving Worker.csv to Worker (1).csv\n"
          ]
        },
        {
          "output_type": "execute_result",
          "data": {
            "text/plain": [
              "{'Worker.csv': b'ID,FirstName,LastName,Email,department,salary,Join Date\\r\\n1,banavath,gangaraju,banavathgangaraju@guvi.com,Admin,45000,3/20/2018\\r\\n2,bandari,chandrakanth,bandarichandrakanth@guvi.com,Marketing,25000,2/15/2019\\r\\n3,bhogadi,manasa,bhogadimanasa@guvi.com,sales,55000,2/20/2013\\r\\n4,boddula,supreeth,boddulasupreeth@guvi.com,HR,60000,3/20/2014\\r\\n5,chennuri,naveen,chennurinaveen@guvi.com,Purchase,65000,2/15/2019\\r\\n6,kuturu,ananthasri,kuturuananthasri@guvi.com,Finance,75000,2/20/2013\\r\\n7,mailapalli,sreeharsha,mailapallisreeharsha@gmail.com,Marketing,80000,2/15/2019\\r\\n8,mengani,akshay,menganiakshay@guvi.com,sales,35000,01-10-2016\\r\\n9,mohammed,nawaz,mohammednawaz@guvi.com,HR,40000,3/20/2014\\r\\n10,rapelly,sandeepraj,rapellysandeepraj@guvi.com,Purchase,55000,2/15/2019\\r\\n11,sandhulwar,sainath,sandhulwarsainath@guvi.com,Finance,60000,08-10-2016\\r\\n12,sirigiri,chaithanya,sirigirichaithanya@guvi.com,Marketing,65000,02-07-2018\\r\\n13,vemula,shravani,vemulashravani@guvi.com,sales,75000,05-05-2017\\r\\n14,barla,sai,barlasai@guvi.com,Marketing,80000,2/20/2013\\r\\n15,borampet,saikaushik,borampetsaikaushik@guvi.com,sales,90000,3/20/2014\\r\\n16,choppa,sairajesh,choppasairajesh@guvi.com,HR,100000,3/20/2014\\r\\n17,eslavath,vamshi,eslavathvamshi@guvi.com,Purchase,55000,2/15/2019\\r\\n18,katuri,yedukndalu,katuriyedukndalu@guvi.com,Finance,60000,2/20/2014\\r\\n19,nikhilesh,kar,nikhileshkar@guvi.com,Marketing,65000,2/20/2013\\r\\n20,patimeedi,srihari,patimeedisrihari@guvi.com,sales,75000,2/15/2019\\r\\n21,praveen,dhumal,praveendhumal@guvi.com,HR,80000,2/20/2013\\r\\n22,praveen,kumar,praveenkumar@guvi.com,Purchase,55000,3/20/2021\\r\\n23,alle,pawan,allepawan@guvi.com,Finance,60000,2/15/2019\\r\\n24,bellam,revanth,bellamrevanth@guvi.com,Admin,65000,08-10-2016\\r\\n25,boddani,ankith,boddaniankith@guvi.com,sales,75000,02-07-2018\\r\\n26,chennakeshavula,suresh,chennakeshavulasuresh@guvi.com,HR,80000,05-05-2017\\r\\n27,gundlapalli,vinith,gundlapallivinith@guvi.com,Purchase,65000,2/20/2013\\r\\n28,kothapalli,bhanu,kothapallibhanu@guvi.com,Finance,75000,03-07-2018\\r\\n29,mohd,sophian,mohdsophian@guvi.com,sales,80000,3/15/2019\\r\\n30,narayana,suresh,narayanasuresh@guvi.com,Marketing,68000,3/20/2021\\r\\n31,siddineni,hemanth,siddinenihemanth@guvi.com,sales,95000,2/15/2019\\r\\n32,vemulapalli,yaswant,vemulapalliyaswant@guvi.com,HR,70000,08-10-2016\\r\\n33,chilkuri,srinivasa,chilkurisrinivasa@guvi.com,Purchase,55000,02-07-2018\\r\\n34,gamidi,eshwar,gamidieshwar@guvi.com,Finance,60000,05-05-2017\\r\\n35,kandukoori,sai,kandukoorisai@guvi.com,Marketing,65000,2/20/2013\\r\\n36,kuthum,nagaraju,kuthumnagaraju@gmail.com,sales,75000,2/15/2019\\r\\n37,mateti,pranav,matetipranav@guvi.com,HR,80000,3/20/2021\\r\\n38,shivani,patel,shivanipatel@guvi.com,Purchase,75000,2/15/2019\\r\\n39,ninga,bhanu,ningabhanu@guvi.com,Finance,80000,08-10-2016\\r\\n40,rohit,meka,rohitmeka@guvi.com,Admin,55000,02-07-2018\\r\\n41,sigalapalli,naveen,sigalapallinaveen@guvi.com,Marketing,60000,05-05-2017\\r\\n42,tangellapally,nagaraju,tangellapallynagaraju@guvi.com,sales,65000,2/20/2013\\r\\n43,vadai,saikiran,vadaisaikiran@guvi.com,Marketing,75000,02-07-2018\\r\\n44,vaddla,aravind,vaddlaaravind@guvi.com,sales,80000,05-05-2017\\r\\n45,yesupogu,akhil,yesupoguakhil@guvi.com,HR,65000,2/20/2013\\r\\n46,samudrala,prashanthi,samudralaprashanthi@guvi.com,Purchase,75000,05-04-2017\\r\\n47,madhavan,,madhavan@guvi.com,Finance,80000,08-10-2016\\r\\n48,sai,kiran,saikiran@guvi.com,Marketing,75000,02-07-2018\\r\\n49,atike,purnachandar,atikepurnachandar@guvi.com,sales,80000,05-05-2017\\r\\n50,bandari,sahithya,bandarisahithya@guvi.com,HR,75000,01-03-2016\\r\\n'}"
            ]
          },
          "metadata": {},
          "execution_count": 46
        }
      ]
    },
    {
      "cell_type": "code",
      "source": [
        "df=pd.read_csv('/content/Worker.csv')\n",
        "df.head()"
      ],
      "metadata": {
        "colab": {
          "base_uri": "https://localhost:8080/",
          "height": 206
        },
        "id": "aeI3W3LFkI3n",
        "outputId": "4febc7a1-20e4-41b0-ae83-f6ac949c0446"
      },
      "execution_count": 47,
      "outputs": [
        {
          "output_type": "execute_result",
          "data": {
            "text/plain": [
              "   ID FirstName      LastName                         Email department  \\\n",
              "0   1  banavath     gangaraju    banavathgangaraju@guvi.com      Admin   \n",
              "1   2   bandari  chandrakanth  bandarichandrakanth@guvi.com  Marketing   \n",
              "2   3   bhogadi        manasa        bhogadimanasa@guvi.com      sales   \n",
              "3   4   boddula      supreeth      boddulasupreeth@guvi.com         HR   \n",
              "4   5  chennuri        naveen       chennurinaveen@guvi.com   Purchase   \n",
              "\n",
              "   salary  Join Date  \n",
              "0   45000  3/20/2018  \n",
              "1   25000  2/15/2019  \n",
              "2   55000  2/20/2013  \n",
              "3   60000  3/20/2014  \n",
              "4   65000  2/15/2019  "
            ],
            "text/html": [
              "\n",
              "  <div id=\"df-584a3da6-15a3-44d5-bff6-16ec3ecbd7d1\">\n",
              "    <div class=\"colab-df-container\">\n",
              "      <div>\n",
              "<style scoped>\n",
              "    .dataframe tbody tr th:only-of-type {\n",
              "        vertical-align: middle;\n",
              "    }\n",
              "\n",
              "    .dataframe tbody tr th {\n",
              "        vertical-align: top;\n",
              "    }\n",
              "\n",
              "    .dataframe thead th {\n",
              "        text-align: right;\n",
              "    }\n",
              "</style>\n",
              "<table border=\"1\" class=\"dataframe\">\n",
              "  <thead>\n",
              "    <tr style=\"text-align: right;\">\n",
              "      <th></th>\n",
              "      <th>ID</th>\n",
              "      <th>FirstName</th>\n",
              "      <th>LastName</th>\n",
              "      <th>Email</th>\n",
              "      <th>department</th>\n",
              "      <th>salary</th>\n",
              "      <th>Join Date</th>\n",
              "    </tr>\n",
              "  </thead>\n",
              "  <tbody>\n",
              "    <tr>\n",
              "      <th>0</th>\n",
              "      <td>1</td>\n",
              "      <td>banavath</td>\n",
              "      <td>gangaraju</td>\n",
              "      <td>banavathgangaraju@guvi.com</td>\n",
              "      <td>Admin</td>\n",
              "      <td>45000</td>\n",
              "      <td>3/20/2018</td>\n",
              "    </tr>\n",
              "    <tr>\n",
              "      <th>1</th>\n",
              "      <td>2</td>\n",
              "      <td>bandari</td>\n",
              "      <td>chandrakanth</td>\n",
              "      <td>bandarichandrakanth@guvi.com</td>\n",
              "      <td>Marketing</td>\n",
              "      <td>25000</td>\n",
              "      <td>2/15/2019</td>\n",
              "    </tr>\n",
              "    <tr>\n",
              "      <th>2</th>\n",
              "      <td>3</td>\n",
              "      <td>bhogadi</td>\n",
              "      <td>manasa</td>\n",
              "      <td>bhogadimanasa@guvi.com</td>\n",
              "      <td>sales</td>\n",
              "      <td>55000</td>\n",
              "      <td>2/20/2013</td>\n",
              "    </tr>\n",
              "    <tr>\n",
              "      <th>3</th>\n",
              "      <td>4</td>\n",
              "      <td>boddula</td>\n",
              "      <td>supreeth</td>\n",
              "      <td>boddulasupreeth@guvi.com</td>\n",
              "      <td>HR</td>\n",
              "      <td>60000</td>\n",
              "      <td>3/20/2014</td>\n",
              "    </tr>\n",
              "    <tr>\n",
              "      <th>4</th>\n",
              "      <td>5</td>\n",
              "      <td>chennuri</td>\n",
              "      <td>naveen</td>\n",
              "      <td>chennurinaveen@guvi.com</td>\n",
              "      <td>Purchase</td>\n",
              "      <td>65000</td>\n",
              "      <td>2/15/2019</td>\n",
              "    </tr>\n",
              "  </tbody>\n",
              "</table>\n",
              "</div>\n",
              "      <button class=\"colab-df-convert\" onclick=\"convertToInteractive('df-584a3da6-15a3-44d5-bff6-16ec3ecbd7d1')\"\n",
              "              title=\"Convert this dataframe to an interactive table.\"\n",
              "              style=\"display:none;\">\n",
              "        \n",
              "  <svg xmlns=\"http://www.w3.org/2000/svg\" height=\"24px\"viewBox=\"0 0 24 24\"\n",
              "       width=\"24px\">\n",
              "    <path d=\"M0 0h24v24H0V0z\" fill=\"none\"/>\n",
              "    <path d=\"M18.56 5.44l.94 2.06.94-2.06 2.06-.94-2.06-.94-.94-2.06-.94 2.06-2.06.94zm-11 1L8.5 8.5l.94-2.06 2.06-.94-2.06-.94L8.5 2.5l-.94 2.06-2.06.94zm10 10l.94 2.06.94-2.06 2.06-.94-2.06-.94-.94-2.06-.94 2.06-2.06.94z\"/><path d=\"M17.41 7.96l-1.37-1.37c-.4-.4-.92-.59-1.43-.59-.52 0-1.04.2-1.43.59L10.3 9.45l-7.72 7.72c-.78.78-.78 2.05 0 2.83L4 21.41c.39.39.9.59 1.41.59.51 0 1.02-.2 1.41-.59l7.78-7.78 2.81-2.81c.8-.78.8-2.07 0-2.86zM5.41 20L4 18.59l7.72-7.72 1.47 1.35L5.41 20z\"/>\n",
              "  </svg>\n",
              "      </button>\n",
              "      \n",
              "  <style>\n",
              "    .colab-df-container {\n",
              "      display:flex;\n",
              "      flex-wrap:wrap;\n",
              "      gap: 12px;\n",
              "    }\n",
              "\n",
              "    .colab-df-convert {\n",
              "      background-color: #E8F0FE;\n",
              "      border: none;\n",
              "      border-radius: 50%;\n",
              "      cursor: pointer;\n",
              "      display: none;\n",
              "      fill: #1967D2;\n",
              "      height: 32px;\n",
              "      padding: 0 0 0 0;\n",
              "      width: 32px;\n",
              "    }\n",
              "\n",
              "    .colab-df-convert:hover {\n",
              "      background-color: #E2EBFA;\n",
              "      box-shadow: 0px 1px 2px rgba(60, 64, 67, 0.3), 0px 1px 3px 1px rgba(60, 64, 67, 0.15);\n",
              "      fill: #174EA6;\n",
              "    }\n",
              "\n",
              "    [theme=dark] .colab-df-convert {\n",
              "      background-color: #3B4455;\n",
              "      fill: #D2E3FC;\n",
              "    }\n",
              "\n",
              "    [theme=dark] .colab-df-convert:hover {\n",
              "      background-color: #434B5C;\n",
              "      box-shadow: 0px 1px 3px 1px rgba(0, 0, 0, 0.15);\n",
              "      filter: drop-shadow(0px 1px 2px rgba(0, 0, 0, 0.3));\n",
              "      fill: #FFFFFF;\n",
              "    }\n",
              "  </style>\n",
              "\n",
              "      <script>\n",
              "        const buttonEl =\n",
              "          document.querySelector('#df-584a3da6-15a3-44d5-bff6-16ec3ecbd7d1 button.colab-df-convert');\n",
              "        buttonEl.style.display =\n",
              "          google.colab.kernel.accessAllowed ? 'block' : 'none';\n",
              "\n",
              "        async function convertToInteractive(key) {\n",
              "          const element = document.querySelector('#df-584a3da6-15a3-44d5-bff6-16ec3ecbd7d1');\n",
              "          const dataTable =\n",
              "            await google.colab.kernel.invokeFunction('convertToInteractive',\n",
              "                                                     [key], {});\n",
              "          if (!dataTable) return;\n",
              "\n",
              "          const docLinkHtml = 'Like what you see? Visit the ' +\n",
              "            '<a target=\"_blank\" href=https://colab.research.google.com/notebooks/data_table.ipynb>data table notebook</a>'\n",
              "            + ' to learn more about interactive tables.';\n",
              "          element.innerHTML = '';\n",
              "          dataTable['output_type'] = 'display_data';\n",
              "          await google.colab.output.renderOutput(dataTable, element);\n",
              "          const docLink = document.createElement('div');\n",
              "          docLink.innerHTML = docLinkHtml;\n",
              "          element.appendChild(docLink);\n",
              "        }\n",
              "      </script>\n",
              "    </div>\n",
              "  </div>\n",
              "  "
            ]
          },
          "metadata": {},
          "execution_count": 47
        }
      ]
    },
    {
      "cell_type": "code",
      "source": [
        "worker=df.copy()"
      ],
      "metadata": {
        "id": "xT5IZE3skv48"
      },
      "execution_count": 48,
      "outputs": []
    },
    {
      "cell_type": "code",
      "source": [
        "worker.columns"
      ],
      "metadata": {
        "colab": {
          "base_uri": "https://localhost:8080/"
        },
        "id": "91XB53mTkTOy",
        "outputId": "ea4254f5-a904-41a5-8d10-5981630a70d2"
      },
      "execution_count": 49,
      "outputs": [
        {
          "output_type": "execute_result",
          "data": {
            "text/plain": [
              "Index(['ID', 'FirstName', 'LastName', 'Email', 'department', 'salary',\n",
              "       'Join Date'],\n",
              "      dtype='object')"
            ]
          },
          "metadata": {},
          "execution_count": 49
        }
      ]
    },
    {
      "cell_type": "markdown",
      "source": [
        "**TASK1:**"
      ],
      "metadata": {
        "id": "-9n3zL_Wk0tN"
      }
    },
    {
      "cell_type": "code",
      "source": [
        "q11 = \"\"\"SELECT FirstName AS worker_name FROM worker \"\"\"\n",
        "print(ps.sqldf(q11, locals()))"
      ],
      "metadata": {
        "colab": {
          "base_uri": "https://localhost:8080/"
        },
        "id": "T7kEkIMwk5p5",
        "outputId": "a9ccf7cc-8c53-4ad4-a8f2-30146c671227"
      },
      "execution_count": 50,
      "outputs": [
        {
          "output_type": "stream",
          "name": "stdout",
          "text": [
            "        worker_name\n",
            "0          banavath\n",
            "1           bandari\n",
            "2           bhogadi\n",
            "3           boddula\n",
            "4          chennuri\n",
            "5            kuturu\n",
            "6        mailapalli\n",
            "7           mengani\n",
            "8          mohammed\n",
            "9           rapelly\n",
            "10       sandhulwar\n",
            "11         sirigiri\n",
            "12           vemula\n",
            "13            barla\n",
            "14         borampet\n",
            "15           choppa\n",
            "16         eslavath\n",
            "17           katuri\n",
            "18        nikhilesh\n",
            "19        patimeedi\n",
            "20          praveen\n",
            "21          praveen\n",
            "22             alle\n",
            "23           bellam\n",
            "24          boddani\n",
            "25  chennakeshavula\n",
            "26      gundlapalli\n",
            "27       kothapalli\n",
            "28             mohd\n",
            "29         narayana\n",
            "30        siddineni\n",
            "31      vemulapalli\n",
            "32         chilkuri\n",
            "33           gamidi\n",
            "34       kandukoori\n",
            "35           kuthum\n",
            "36           mateti\n",
            "37          shivani\n",
            "38            ninga\n",
            "39            rohit\n",
            "40      sigalapalli\n",
            "41    tangellapally\n",
            "42            vadai\n",
            "43           vaddla\n",
            "44         yesupogu\n",
            "45        samudrala\n",
            "46         madhavan\n",
            "47              sai\n",
            "48            atike\n",
            "49          bandari\n"
          ]
        }
      ]
    },
    {
      "cell_type": "code",
      "source": [
        "q12=\"\"\"SELECT distinct department from worker\"\"\"\n",
        "print(ps.sqldf(q12))"
      ],
      "metadata": {
        "colab": {
          "base_uri": "https://localhost:8080/"
        },
        "id": "mGm7IBFal4tk",
        "outputId": "4c84efde-9845-4628-c498-4e46f8204359"
      },
      "execution_count": 51,
      "outputs": [
        {
          "output_type": "stream",
          "name": "stdout",
          "text": [
            "  department\n",
            "0      Admin\n",
            "1  Marketing\n",
            "2      sales\n",
            "3         HR\n",
            "4   Purchase\n",
            "5    Finance\n"
          ]
        }
      ]
    },
    {
      "cell_type": "code",
      "source": [
        "q13=\"\"\"SELECT * from worker order by ID DESC limit 5\"\"\"\n",
        "print(ps.sqldf(q13))"
      ],
      "metadata": {
        "colab": {
          "base_uri": "https://localhost:8080/"
        },
        "id": "cKlNy3PNmOqg",
        "outputId": "a8e28980-505c-4a97-f1b6-2b333e1e0cc8"
      },
      "execution_count": 52,
      "outputs": [
        {
          "output_type": "stream",
          "name": "stdout",
          "text": [
            "   ID  FirstName      LastName                         Email department  \\\n",
            "0  50    bandari      sahithya      bandarisahithya@guvi.com         HR   \n",
            "1  49      atike  purnachandar    atikepurnachandar@guvi.com      sales   \n",
            "2  48        sai         kiran             saikiran@guvi.com  Marketing   \n",
            "3  47   madhavan          None             madhavan@guvi.com    Finance   \n",
            "4  46  samudrala    prashanthi  samudralaprashanthi@guvi.com   Purchase   \n",
            "\n",
            "   salary   Join Date  \n",
            "0   75000  01-03-2016  \n",
            "1   80000  05-05-2017  \n",
            "2   75000  02-07-2018  \n",
            "3   80000  08-10-2016  \n",
            "4   75000  05-04-2017  \n"
          ]
        }
      ]
    },
    {
      "cell_type": "markdown",
      "source": [
        "**TASK2:**"
      ],
      "metadata": {
        "id": "Rp-JNKyrnczt"
      }
    },
    {
      "cell_type": "code",
      "source": [
        "  #q21=\"\"\"SELECT SUBSTRING(FirstName,1,3) from worker\"\"\"\n",
        "  q21 = \"\"\"SELECT LEFT(FirstName, 3) FROM worker \"\"\"\n",
        "  print(ps.sqldf(q21),locals())"
      ],
      "metadata": {
        "id": "wWxvz7cAnhsJ"
      },
      "execution_count": null,
      "outputs": []
    },
    {
      "cell_type": "code",
      "source": [
        "#q22=\"\"\"SELECT INSTR(FirstName,BINARY,'a') from worker where FirstName='sai'\"\"\"\n",
        "q22=\"\"\"SELECT POSITION(\"a\" IN FirstName) FROM worker WHERE FirstName = \"patel\";'\"\"\"\n",
        "print(ps.sqldf(q22),locals()) "
      ],
      "metadata": {
        "id": "4Dswm__IpQUo"
      },
      "execution_count": null,
      "outputs": []
    },
    {
      "cell_type": "code",
      "source": [
        "q23=\"\"\"Select *from worker w where salary =(select max(salary) from worker where department=w.department)\"\"\"\n",
        "print(ps.sqldf(q23))"
      ],
      "metadata": {
        "id": "JVCri0r5qiJL",
        "colab": {
          "base_uri": "https://localhost:8080/"
        },
        "outputId": "d37f5c15-d6cb-4411-c7c7-d451eddaac92"
      },
      "execution_count": 54,
      "outputs": [
        {
          "output_type": "stream",
          "name": "stdout",
          "text": [
            "   ID   FirstName    LastName                           Email department  \\\n",
            "0   7  mailapalli  sreeharsha  mailapallisreeharsha@gmail.com  Marketing   \n",
            "1  14       barla         sai               barlasai@guvi.com  Marketing   \n",
            "2  16      choppa   sairajesh        choppasairajesh@guvi.com         HR   \n",
            "3  24      bellam     revanth          bellamrevanth@guvi.com      Admin   \n",
            "4  31   siddineni     hemanth       siddinenihemanth@guvi.com      sales   \n",
            "5  38     shivani       patel           shivanipatel@guvi.com   Purchase   \n",
            "6  39       ninga       bhanu             ningabhanu@guvi.com    Finance   \n",
            "7  46   samudrala  prashanthi    samudralaprashanthi@guvi.com   Purchase   \n",
            "8  47    madhavan        None               madhavan@guvi.com    Finance   \n",
            "\n",
            "   salary   Join Date  \n",
            "0   80000   2/15/2019  \n",
            "1   80000   2/20/2013  \n",
            "2  100000   3/20/2014  \n",
            "3   65000  08-10-2016  \n",
            "4   95000   2/15/2019  \n",
            "5   75000   2/15/2019  \n",
            "6   80000  08-10-2016  \n",
            "7   75000  05-04-2017  \n",
            "8   80000  08-10-2016  \n"
          ]
        }
      ]
    },
    {
      "cell_type": "markdown",
      "source": [
        "**TASK3:**"
      ],
      "metadata": {
        "id": "VZ2c-mx-sYjH"
      }
    },
    {
      "cell_type": "code",
      "source": [
        "q31=\"\"\"select RTRIM(FirstName) from worker\"\"\"\n",
        "print(ps.sqldf(q31))"
      ],
      "metadata": {
        "id": "kTBETTM0sb8W",
        "colab": {
          "base_uri": "https://localhost:8080/"
        },
        "outputId": "bb91f7af-4d73-4f4d-cd7c-78464ccbb599"
      },
      "execution_count": 56,
      "outputs": [
        {
          "output_type": "stream",
          "name": "stdout",
          "text": [
            "   RTRIM(FirstName)\n",
            "0          banavath\n",
            "1           bandari\n",
            "2           bhogadi\n",
            "3           boddula\n",
            "4          chennuri\n",
            "5            kuturu\n",
            "6        mailapalli\n",
            "7           mengani\n",
            "8          mohammed\n",
            "9           rapelly\n",
            "10       sandhulwar\n",
            "11         sirigiri\n",
            "12           vemula\n",
            "13            barla\n",
            "14         borampet\n",
            "15           choppa\n",
            "16         eslavath\n",
            "17           katuri\n",
            "18        nikhilesh\n",
            "19        patimeedi\n",
            "20          praveen\n",
            "21          praveen\n",
            "22             alle\n",
            "23           bellam\n",
            "24          boddani\n",
            "25  chennakeshavula\n",
            "26      gundlapalli\n",
            "27       kothapalli\n",
            "28             mohd\n",
            "29         narayana\n",
            "30        siddineni\n",
            "31      vemulapalli\n",
            "32         chilkuri\n",
            "33           gamidi\n",
            "34       kandukoori\n",
            "35           kuthum\n",
            "36           mateti\n",
            "37          shivani\n",
            "38            ninga\n",
            "39            rohit\n",
            "40      sigalapalli\n",
            "41    tangellapally\n",
            "42            vadai\n",
            "43           vaddla\n",
            "44         yesupogu\n",
            "45        samudrala\n",
            "46         madhavan\n",
            "47              sai\n",
            "48            atike\n",
            "49          bandari\n"
          ]
        }
      ]
    },
    {
      "cell_type": "code",
      "source": [
        "q32=\"\"\"SELECT DISTINCT department, LENGTH(department) AS departmentNameLength FROM worker\"\"\"\n",
        "print(ps.sqldf(q32))"
      ],
      "metadata": {
        "id": "RB6W47mis73E",
        "colab": {
          "base_uri": "https://localhost:8080/"
        },
        "outputId": "70b326d5-0311-47a1-9cf0-b739dd70a90b"
      },
      "execution_count": 57,
      "outputs": [
        {
          "output_type": "stream",
          "name": "stdout",
          "text": [
            "  department  departmentNameLength\n",
            "0      Admin                     5\n",
            "1  Marketing                     9\n",
            "2      sales                     5\n",
            "3         HR                     2\n",
            "4   Purchase                     8\n",
            "5    Finance                     7\n"
          ]
        }
      ]
    },
    {
      "cell_type": "code",
      "source": [
        "q33=\"\"\"select distinct(salary) from worker order by salary DESC limit 2 offset 1\"\"\"\n",
        "print(ps.sqldf(q33))"
      ],
      "metadata": {
        "id": "yeickPwPwT2k",
        "colab": {
          "base_uri": "https://localhost:8080/"
        },
        "outputId": "e4ebfd5a-9cb9-4f47-c033-9eecf7fe1532"
      },
      "execution_count": 58,
      "outputs": [
        {
          "output_type": "stream",
          "name": "stdout",
          "text": [
            "   salary\n",
            "0   95000\n",
            "1   90000\n"
          ]
        }
      ]
    },
    {
      "cell_type": "markdown",
      "source": [
        "**TASK4:**"
      ],
      "metadata": {
        "id": "Glquwvx9xFWf"
      }
    },
    {
      "cell_type": "code",
      "source": [
        "q41=\"\"\"select REPLACE(FirstName,'a','A') from worker\"\"\"\n",
        "print(ps.sqldf(q41))\n"
      ],
      "metadata": {
        "id": "5L3lvCtzxEJN",
        "colab": {
          "base_uri": "https://localhost:8080/"
        },
        "outputId": "91b9c588-bf40-4592-ea42-9f7194a9a580"
      },
      "execution_count": 59,
      "outputs": [
        {
          "output_type": "stream",
          "name": "stdout",
          "text": [
            "   REPLACE(FirstName,'a','A')\n",
            "0                    bAnAvAth\n",
            "1                     bAndAri\n",
            "2                     bhogAdi\n",
            "3                     boddulA\n",
            "4                    chennuri\n",
            "5                      kuturu\n",
            "6                  mAilApAlli\n",
            "7                     mengAni\n",
            "8                    mohAmmed\n",
            "9                     rApelly\n",
            "10                 sAndhulwAr\n",
            "11                   sirigiri\n",
            "12                     vemulA\n",
            "13                      bArlA\n",
            "14                   borAmpet\n",
            "15                     choppA\n",
            "16                   eslAvAth\n",
            "17                     kAturi\n",
            "18                  nikhilesh\n",
            "19                  pAtimeedi\n",
            "20                    prAveen\n",
            "21                    prAveen\n",
            "22                       Alle\n",
            "23                     bellAm\n",
            "24                    boddAni\n",
            "25            chennAkeshAvulA\n",
            "26                gundlApAlli\n",
            "27                 kothApAlli\n",
            "28                       mohd\n",
            "29                   nArAyAnA\n",
            "30                  siddineni\n",
            "31                vemulApAlli\n",
            "32                   chilkuri\n",
            "33                     gAmidi\n",
            "34                 kAndukoori\n",
            "35                     kuthum\n",
            "36                     mAteti\n",
            "37                    shivAni\n",
            "38                      ningA\n",
            "39                      rohit\n",
            "40                sigAlApAlli\n",
            "41              tAngellApAlly\n",
            "42                      vAdAi\n",
            "43                     vAddlA\n",
            "44                   yesupogu\n",
            "45                  sAmudrAlA\n",
            "46                   mAdhAvAn\n",
            "47                        sAi\n",
            "48                      Atike\n",
            "49                    bAndAri\n"
          ]
        }
      ]
    },
    {
      "cell_type": "code",
      "source": [
        "q42=\"\"\"select * from worker order by FirstName ASC, department DESC\"\"\"\n",
        "print(ps.sqldf(q42))"
      ],
      "metadata": {
        "id": "BjiB-X1ox_Bx",
        "colab": {
          "base_uri": "https://localhost:8080/"
        },
        "outputId": "eaae2ed7-ab5b-4ee7-98f8-30afd5a3a6d4"
      },
      "execution_count": 60,
      "outputs": [
        {
          "output_type": "stream",
          "name": "stdout",
          "text": [
            "    ID        FirstName      LastName                           Email  \\\n",
            "0   23             alle         pawan              allepawan@guvi.com   \n",
            "1   49            atike  purnachandar      atikepurnachandar@guvi.com   \n",
            "2    1         banavath     gangaraju      banavathgangaraju@guvi.com   \n",
            "3    2          bandari  chandrakanth    bandarichandrakanth@guvi.com   \n",
            "4   50          bandari      sahithya        bandarisahithya@guvi.com   \n",
            "5   14            barla           sai               barlasai@guvi.com   \n",
            "6   24           bellam       revanth          bellamrevanth@guvi.com   \n",
            "7    3          bhogadi        manasa          bhogadimanasa@guvi.com   \n",
            "8   25          boddani        ankith          boddaniankith@guvi.com   \n",
            "9    4          boddula      supreeth        boddulasupreeth@guvi.com   \n",
            "10  15         borampet    saikaushik     borampetsaikaushik@guvi.com   \n",
            "11  26  chennakeshavula        suresh  chennakeshavulasuresh@guvi.com   \n",
            "12   5         chennuri        naveen         chennurinaveen@guvi.com   \n",
            "13  33         chilkuri     srinivasa      chilkurisrinivasa@guvi.com   \n",
            "14  16           choppa     sairajesh        choppasairajesh@guvi.com   \n",
            "15  17         eslavath        vamshi         eslavathvamshi@guvi.com   \n",
            "16  34           gamidi        eshwar           gamidieshwar@guvi.com   \n",
            "17  27      gundlapalli        vinith      gundlapallivinith@guvi.com   \n",
            "18  35       kandukoori           sai          kandukoorisai@guvi.com   \n",
            "19  18           katuri    yedukndalu       katuriyedukndalu@guvi.com   \n",
            "20  28       kothapalli         bhanu        kothapallibhanu@guvi.com   \n",
            "21  36           kuthum      nagaraju        kuthumnagaraju@gmail.com   \n",
            "22   6           kuturu    ananthasri       kuturuananthasri@guvi.com   \n",
            "23  47         madhavan          None               madhavan@guvi.com   \n",
            "24   7       mailapalli    sreeharsha  mailapallisreeharsha@gmail.com   \n",
            "25  37           mateti        pranav           matetipranav@guvi.com   \n",
            "26   8          mengani        akshay          menganiakshay@guvi.com   \n",
            "27   9         mohammed         nawaz          mohammednawaz@guvi.com   \n",
            "28  29             mohd       sophian            mohdsophian@guvi.com   \n",
            "29  30         narayana        suresh         narayanasuresh@guvi.com   \n",
            "30  19        nikhilesh           kar           nikhileshkar@guvi.com   \n",
            "31  39            ninga         bhanu             ningabhanu@guvi.com   \n",
            "32  20        patimeedi       srihari       patimeedisrihari@guvi.com   \n",
            "33  22          praveen         kumar           praveenkumar@guvi.com   \n",
            "34  21          praveen        dhumal          praveendhumal@guvi.com   \n",
            "35  10          rapelly    sandeepraj      rapellysandeepraj@guvi.com   \n",
            "36  40            rohit          meka              rohitmeka@guvi.com   \n",
            "37  48              sai         kiran               saikiran@guvi.com   \n",
            "38  46        samudrala    prashanthi    samudralaprashanthi@guvi.com   \n",
            "39  11       sandhulwar       sainath      sandhulwarsainath@guvi.com   \n",
            "40  38          shivani         patel           shivanipatel@guvi.com   \n",
            "41  31        siddineni       hemanth       siddinenihemanth@guvi.com   \n",
            "42  41      sigalapalli        naveen      sigalapallinaveen@guvi.com   \n",
            "43  12         sirigiri    chaithanya     sirigirichaithanya@guvi.com   \n",
            "44  42    tangellapally      nagaraju  tangellapallynagaraju@guvi.com   \n",
            "45  43            vadai      saikiran          vadaisaikiran@guvi.com   \n",
            "46  44           vaddla       aravind          vaddlaaravind@guvi.com   \n",
            "47  13           vemula      shravani         vemulashravani@guvi.com   \n",
            "48  32      vemulapalli       yaswant     vemulapalliyaswant@guvi.com   \n",
            "49  45         yesupogu         akhil          yesupoguakhil@guvi.com   \n",
            "\n",
            "   department  salary   Join Date  \n",
            "0     Finance   60000   2/15/2019  \n",
            "1       sales   80000  05-05-2017  \n",
            "2       Admin   45000   3/20/2018  \n",
            "3   Marketing   25000   2/15/2019  \n",
            "4          HR   75000  01-03-2016  \n",
            "5   Marketing   80000   2/20/2013  \n",
            "6       Admin   65000  08-10-2016  \n",
            "7       sales   55000   2/20/2013  \n",
            "8       sales   75000  02-07-2018  \n",
            "9          HR   60000   3/20/2014  \n",
            "10      sales   90000   3/20/2014  \n",
            "11         HR   80000  05-05-2017  \n",
            "12   Purchase   65000   2/15/2019  \n",
            "13   Purchase   55000  02-07-2018  \n",
            "14         HR  100000   3/20/2014  \n",
            "15   Purchase   55000   2/15/2019  \n",
            "16    Finance   60000  05-05-2017  \n",
            "17   Purchase   65000   2/20/2013  \n",
            "18  Marketing   65000   2/20/2013  \n",
            "19    Finance   60000   2/20/2014  \n",
            "20    Finance   75000  03-07-2018  \n",
            "21      sales   75000   2/15/2019  \n",
            "22    Finance   75000   2/20/2013  \n",
            "23    Finance   80000  08-10-2016  \n",
            "24  Marketing   80000   2/15/2019  \n",
            "25         HR   80000   3/20/2021  \n",
            "26      sales   35000  01-10-2016  \n",
            "27         HR   40000   3/20/2014  \n",
            "28      sales   80000   3/15/2019  \n",
            "29  Marketing   68000   3/20/2021  \n",
            "30  Marketing   65000   2/20/2013  \n",
            "31    Finance   80000  08-10-2016  \n",
            "32      sales   75000   2/15/2019  \n",
            "33   Purchase   55000   3/20/2021  \n",
            "34         HR   80000   2/20/2013  \n",
            "35   Purchase   55000   2/15/2019  \n",
            "36      Admin   55000  02-07-2018  \n",
            "37  Marketing   75000  02-07-2018  \n",
            "38   Purchase   75000  05-04-2017  \n",
            "39    Finance   60000  08-10-2016  \n",
            "40   Purchase   75000   2/15/2019  \n",
            "41      sales   95000   2/15/2019  \n",
            "42  Marketing   60000  05-05-2017  \n",
            "43  Marketing   65000  02-07-2018  \n",
            "44      sales   65000   2/20/2013  \n",
            "45  Marketing   75000  02-07-2018  \n",
            "46      sales   80000  05-05-2017  \n",
            "47      sales   75000  05-05-2017  \n",
            "48         HR   70000  08-10-2016  \n",
            "49         HR   65000   2/20/2013  \n"
          ]
        }
      ]
    },
    {
      "cell_type": "code",
      "source": [
        "q43=\"\"\"select FirstName,LastName from worker where salary=(select max(salary) from worker)\"\"\"\n",
        "print(ps.sqldf(q43))"
      ],
      "metadata": {
        "id": "GPO-j8Q30YZN",
        "colab": {
          "base_uri": "https://localhost:8080/"
        },
        "outputId": "c557e46f-5567-44cc-85db-f21cedae8731"
      },
      "execution_count": 61,
      "outputs": [
        {
          "output_type": "stream",
          "name": "stdout",
          "text": [
            "  FirstName   LastName\n",
            "0    choppa  sairajesh\n"
          ]
        }
      ]
    },
    {
      "cell_type": "markdown",
      "source": [
        "**TASK5:**"
      ],
      "metadata": {
        "id": "ob5xjy7T1Ea0"
      }
    },
    {
      "cell_type": "code",
      "source": [
        "q51=\"\"\"select * from worker where FirstName not in(\"shivani\",\"rohit\")\"\"\"\n",
        "print(ps.sqldf(q51))"
      ],
      "metadata": {
        "id": "N5muD7WA1H9O",
        "colab": {
          "base_uri": "https://localhost:8080/"
        },
        "outputId": "4e16f368-e10e-4d11-cfe2-24b18cb043c6"
      },
      "execution_count": 62,
      "outputs": [
        {
          "output_type": "stream",
          "name": "stdout",
          "text": [
            "    ID        FirstName      LastName                           Email  \\\n",
            "0    1         banavath     gangaraju      banavathgangaraju@guvi.com   \n",
            "1    2          bandari  chandrakanth    bandarichandrakanth@guvi.com   \n",
            "2    3          bhogadi        manasa          bhogadimanasa@guvi.com   \n",
            "3    4          boddula      supreeth        boddulasupreeth@guvi.com   \n",
            "4    5         chennuri        naveen         chennurinaveen@guvi.com   \n",
            "5    6           kuturu    ananthasri       kuturuananthasri@guvi.com   \n",
            "6    7       mailapalli    sreeharsha  mailapallisreeharsha@gmail.com   \n",
            "7    8          mengani        akshay          menganiakshay@guvi.com   \n",
            "8    9         mohammed         nawaz          mohammednawaz@guvi.com   \n",
            "9   10          rapelly    sandeepraj      rapellysandeepraj@guvi.com   \n",
            "10  11       sandhulwar       sainath      sandhulwarsainath@guvi.com   \n",
            "11  12         sirigiri    chaithanya     sirigirichaithanya@guvi.com   \n",
            "12  13           vemula      shravani         vemulashravani@guvi.com   \n",
            "13  14            barla           sai               barlasai@guvi.com   \n",
            "14  15         borampet    saikaushik     borampetsaikaushik@guvi.com   \n",
            "15  16           choppa     sairajesh        choppasairajesh@guvi.com   \n",
            "16  17         eslavath        vamshi         eslavathvamshi@guvi.com   \n",
            "17  18           katuri    yedukndalu       katuriyedukndalu@guvi.com   \n",
            "18  19        nikhilesh           kar           nikhileshkar@guvi.com   \n",
            "19  20        patimeedi       srihari       patimeedisrihari@guvi.com   \n",
            "20  21          praveen        dhumal          praveendhumal@guvi.com   \n",
            "21  22          praveen         kumar           praveenkumar@guvi.com   \n",
            "22  23             alle         pawan              allepawan@guvi.com   \n",
            "23  24           bellam       revanth          bellamrevanth@guvi.com   \n",
            "24  25          boddani        ankith          boddaniankith@guvi.com   \n",
            "25  26  chennakeshavula        suresh  chennakeshavulasuresh@guvi.com   \n",
            "26  27      gundlapalli        vinith      gundlapallivinith@guvi.com   \n",
            "27  28       kothapalli         bhanu        kothapallibhanu@guvi.com   \n",
            "28  29             mohd       sophian            mohdsophian@guvi.com   \n",
            "29  30         narayana        suresh         narayanasuresh@guvi.com   \n",
            "30  31        siddineni       hemanth       siddinenihemanth@guvi.com   \n",
            "31  32      vemulapalli       yaswant     vemulapalliyaswant@guvi.com   \n",
            "32  33         chilkuri     srinivasa      chilkurisrinivasa@guvi.com   \n",
            "33  34           gamidi        eshwar           gamidieshwar@guvi.com   \n",
            "34  35       kandukoori           sai          kandukoorisai@guvi.com   \n",
            "35  36           kuthum      nagaraju        kuthumnagaraju@gmail.com   \n",
            "36  37           mateti        pranav           matetipranav@guvi.com   \n",
            "37  39            ninga         bhanu             ningabhanu@guvi.com   \n",
            "38  41      sigalapalli        naveen      sigalapallinaveen@guvi.com   \n",
            "39  42    tangellapally      nagaraju  tangellapallynagaraju@guvi.com   \n",
            "40  43            vadai      saikiran          vadaisaikiran@guvi.com   \n",
            "41  44           vaddla       aravind          vaddlaaravind@guvi.com   \n",
            "42  45         yesupogu         akhil          yesupoguakhil@guvi.com   \n",
            "43  46        samudrala    prashanthi    samudralaprashanthi@guvi.com   \n",
            "44  47         madhavan          None               madhavan@guvi.com   \n",
            "45  48              sai         kiran               saikiran@guvi.com   \n",
            "46  49            atike  purnachandar      atikepurnachandar@guvi.com   \n",
            "47  50          bandari      sahithya        bandarisahithya@guvi.com   \n",
            "\n",
            "   department  salary   Join Date  \n",
            "0       Admin   45000   3/20/2018  \n",
            "1   Marketing   25000   2/15/2019  \n",
            "2       sales   55000   2/20/2013  \n",
            "3          HR   60000   3/20/2014  \n",
            "4    Purchase   65000   2/15/2019  \n",
            "5     Finance   75000   2/20/2013  \n",
            "6   Marketing   80000   2/15/2019  \n",
            "7       sales   35000  01-10-2016  \n",
            "8          HR   40000   3/20/2014  \n",
            "9    Purchase   55000   2/15/2019  \n",
            "10    Finance   60000  08-10-2016  \n",
            "11  Marketing   65000  02-07-2018  \n",
            "12      sales   75000  05-05-2017  \n",
            "13  Marketing   80000   2/20/2013  \n",
            "14      sales   90000   3/20/2014  \n",
            "15         HR  100000   3/20/2014  \n",
            "16   Purchase   55000   2/15/2019  \n",
            "17    Finance   60000   2/20/2014  \n",
            "18  Marketing   65000   2/20/2013  \n",
            "19      sales   75000   2/15/2019  \n",
            "20         HR   80000   2/20/2013  \n",
            "21   Purchase   55000   3/20/2021  \n",
            "22    Finance   60000   2/15/2019  \n",
            "23      Admin   65000  08-10-2016  \n",
            "24      sales   75000  02-07-2018  \n",
            "25         HR   80000  05-05-2017  \n",
            "26   Purchase   65000   2/20/2013  \n",
            "27    Finance   75000  03-07-2018  \n",
            "28      sales   80000   3/15/2019  \n",
            "29  Marketing   68000   3/20/2021  \n",
            "30      sales   95000   2/15/2019  \n",
            "31         HR   70000  08-10-2016  \n",
            "32   Purchase   55000  02-07-2018  \n",
            "33    Finance   60000  05-05-2017  \n",
            "34  Marketing   65000   2/20/2013  \n",
            "35      sales   75000   2/15/2019  \n",
            "36         HR   80000   3/20/2021  \n",
            "37    Finance   80000  08-10-2016  \n",
            "38  Marketing   60000  05-05-2017  \n",
            "39      sales   65000   2/20/2013  \n",
            "40  Marketing   75000  02-07-2018  \n",
            "41      sales   80000  05-05-2017  \n",
            "42         HR   65000   2/20/2013  \n",
            "43   Purchase   75000  05-04-2017  \n",
            "44    Finance   80000  08-10-2016  \n",
            "45  Marketing   75000  02-07-2018  \n",
            "46      sales   80000  05-05-2017  \n",
            "47         HR   75000  01-03-2016  \n"
          ]
        }
      ]
    },
    {
      "cell_type": "code",
      "source": [
        "q52=\"\"\"select *from worker where FirstName LIKE \"_____h\" \"\"\"\n",
        "print(ps.sqldf(q52))"
      ],
      "metadata": {
        "id": "_K5ET52O2Uya",
        "colab": {
          "base_uri": "https://localhost:8080/"
        },
        "outputId": "aad173c6-519d-47ba-a33c-a92401b4f0ad"
      },
      "execution_count": 63,
      "outputs": [
        {
          "output_type": "stream",
          "name": "stdout",
          "text": [
            "Empty DataFrame\n",
            "Columns: [ID, FirstName, LastName, Email, department, salary, Join Date]\n",
            "Index: []\n"
          ]
        }
      ]
    },
    {
      "cell_type": "code",
      "source": [
        "q53=\"\"\"select * from worker where Email like \"_%@_%._%\" \"\"\"\n",
        "print(ps.sqldf(q53))"
      ],
      "metadata": {
        "id": "PUrjdei23XKY",
        "colab": {
          "base_uri": "https://localhost:8080/"
        },
        "outputId": "2373ba71-e2ed-470d-ef78-2810c37623db"
      },
      "execution_count": 64,
      "outputs": [
        {
          "output_type": "stream",
          "name": "stdout",
          "text": [
            "    ID        FirstName      LastName                           Email  \\\n",
            "0    1         banavath     gangaraju      banavathgangaraju@guvi.com   \n",
            "1    2          bandari  chandrakanth    bandarichandrakanth@guvi.com   \n",
            "2    3          bhogadi        manasa          bhogadimanasa@guvi.com   \n",
            "3    4          boddula      supreeth        boddulasupreeth@guvi.com   \n",
            "4    5         chennuri        naveen         chennurinaveen@guvi.com   \n",
            "5    6           kuturu    ananthasri       kuturuananthasri@guvi.com   \n",
            "6    7       mailapalli    sreeharsha  mailapallisreeharsha@gmail.com   \n",
            "7    8          mengani        akshay          menganiakshay@guvi.com   \n",
            "8    9         mohammed         nawaz          mohammednawaz@guvi.com   \n",
            "9   10          rapelly    sandeepraj      rapellysandeepraj@guvi.com   \n",
            "10  11       sandhulwar       sainath      sandhulwarsainath@guvi.com   \n",
            "11  12         sirigiri    chaithanya     sirigirichaithanya@guvi.com   \n",
            "12  13           vemula      shravani         vemulashravani@guvi.com   \n",
            "13  14            barla           sai               barlasai@guvi.com   \n",
            "14  15         borampet    saikaushik     borampetsaikaushik@guvi.com   \n",
            "15  16           choppa     sairajesh        choppasairajesh@guvi.com   \n",
            "16  17         eslavath        vamshi         eslavathvamshi@guvi.com   \n",
            "17  18           katuri    yedukndalu       katuriyedukndalu@guvi.com   \n",
            "18  19        nikhilesh           kar           nikhileshkar@guvi.com   \n",
            "19  20        patimeedi       srihari       patimeedisrihari@guvi.com   \n",
            "20  21          praveen        dhumal          praveendhumal@guvi.com   \n",
            "21  22          praveen         kumar           praveenkumar@guvi.com   \n",
            "22  23             alle         pawan              allepawan@guvi.com   \n",
            "23  24           bellam       revanth          bellamrevanth@guvi.com   \n",
            "24  25          boddani        ankith          boddaniankith@guvi.com   \n",
            "25  26  chennakeshavula        suresh  chennakeshavulasuresh@guvi.com   \n",
            "26  27      gundlapalli        vinith      gundlapallivinith@guvi.com   \n",
            "27  28       kothapalli         bhanu        kothapallibhanu@guvi.com   \n",
            "28  29             mohd       sophian            mohdsophian@guvi.com   \n",
            "29  30         narayana        suresh         narayanasuresh@guvi.com   \n",
            "30  31        siddineni       hemanth       siddinenihemanth@guvi.com   \n",
            "31  32      vemulapalli       yaswant     vemulapalliyaswant@guvi.com   \n",
            "32  33         chilkuri     srinivasa      chilkurisrinivasa@guvi.com   \n",
            "33  34           gamidi        eshwar           gamidieshwar@guvi.com   \n",
            "34  35       kandukoori           sai          kandukoorisai@guvi.com   \n",
            "35  36           kuthum      nagaraju        kuthumnagaraju@gmail.com   \n",
            "36  37           mateti        pranav           matetipranav@guvi.com   \n",
            "37  38          shivani         patel           shivanipatel@guvi.com   \n",
            "38  39            ninga         bhanu             ningabhanu@guvi.com   \n",
            "39  40            rohit          meka              rohitmeka@guvi.com   \n",
            "40  41      sigalapalli        naveen      sigalapallinaveen@guvi.com   \n",
            "41  42    tangellapally      nagaraju  tangellapallynagaraju@guvi.com   \n",
            "42  43            vadai      saikiran          vadaisaikiran@guvi.com   \n",
            "43  44           vaddla       aravind          vaddlaaravind@guvi.com   \n",
            "44  45         yesupogu         akhil          yesupoguakhil@guvi.com   \n",
            "45  46        samudrala    prashanthi    samudralaprashanthi@guvi.com   \n",
            "46  47         madhavan          None               madhavan@guvi.com   \n",
            "47  48              sai         kiran               saikiran@guvi.com   \n",
            "48  49            atike  purnachandar      atikepurnachandar@guvi.com   \n",
            "49  50          bandari      sahithya        bandarisahithya@guvi.com   \n",
            "\n",
            "   department  salary   Join Date  \n",
            "0       Admin   45000   3/20/2018  \n",
            "1   Marketing   25000   2/15/2019  \n",
            "2       sales   55000   2/20/2013  \n",
            "3          HR   60000   3/20/2014  \n",
            "4    Purchase   65000   2/15/2019  \n",
            "5     Finance   75000   2/20/2013  \n",
            "6   Marketing   80000   2/15/2019  \n",
            "7       sales   35000  01-10-2016  \n",
            "8          HR   40000   3/20/2014  \n",
            "9    Purchase   55000   2/15/2019  \n",
            "10    Finance   60000  08-10-2016  \n",
            "11  Marketing   65000  02-07-2018  \n",
            "12      sales   75000  05-05-2017  \n",
            "13  Marketing   80000   2/20/2013  \n",
            "14      sales   90000   3/20/2014  \n",
            "15         HR  100000   3/20/2014  \n",
            "16   Purchase   55000   2/15/2019  \n",
            "17    Finance   60000   2/20/2014  \n",
            "18  Marketing   65000   2/20/2013  \n",
            "19      sales   75000   2/15/2019  \n",
            "20         HR   80000   2/20/2013  \n",
            "21   Purchase   55000   3/20/2021  \n",
            "22    Finance   60000   2/15/2019  \n",
            "23      Admin   65000  08-10-2016  \n",
            "24      sales   75000  02-07-2018  \n",
            "25         HR   80000  05-05-2017  \n",
            "26   Purchase   65000   2/20/2013  \n",
            "27    Finance   75000  03-07-2018  \n",
            "28      sales   80000   3/15/2019  \n",
            "29  Marketing   68000   3/20/2021  \n",
            "30      sales   95000   2/15/2019  \n",
            "31         HR   70000  08-10-2016  \n",
            "32   Purchase   55000  02-07-2018  \n",
            "33    Finance   60000  05-05-2017  \n",
            "34  Marketing   65000   2/20/2013  \n",
            "35      sales   75000   2/15/2019  \n",
            "36         HR   80000   3/20/2021  \n",
            "37   Purchase   75000   2/15/2019  \n",
            "38    Finance   80000  08-10-2016  \n",
            "39      Admin   55000  02-07-2018  \n",
            "40  Marketing   60000  05-05-2017  \n",
            "41      sales   65000   2/20/2013  \n",
            "42  Marketing   75000  02-07-2018  \n",
            "43      sales   80000  05-05-2017  \n",
            "44         HR   65000   2/20/2013  \n",
            "45   Purchase   75000  05-04-2017  \n",
            "46    Finance   80000  08-10-2016  \n",
            "47  Marketing   75000  02-07-2018  \n",
            "48      sales   80000  05-05-2017  \n",
            "49         HR   75000  01-03-2016  \n"
          ]
        }
      ]
    },
    {
      "cell_type": "markdown",
      "source": [
        "**TASK6:**"
      ],
      "metadata": {
        "id": "cKjKhHNg4JsH"
      }
    },
    {
      "cell_type": "code",
      "source": [
        "#q61=\"\"\"select * from worker where Join Date LIKE \"2021/03%\" \"\"\"\n",
        "q61=\"\"\"SELECT * FROM worker WHERE year(Join Date) = 2021 AND month(Join Date) = 3 \"\"\"\n",
        "print(ps.sqldf(q61))"
      ],
      "metadata": {
        "id": "3GJ2eRG-4Nmv"
      },
      "execution_count": null,
      "outputs": []
    },
    {
      "cell_type": "code",
      "source": [
        "q62=\"\"\"select FirstName,LastName,salary,Email,count(*) as duplicates from worker group by FirstName,LastName,salary,Email Having count(*)>1 \"\"\"\n",
        "print(ps.sqldf(q62))"
      ],
      "metadata": {
        "id": "oArr_ls_6R7R",
        "colab": {
          "base_uri": "https://localhost:8080/"
        },
        "outputId": "a81d46f0-3813-4d7d-c1f9-4b2865e977b8"
      },
      "execution_count": 80,
      "outputs": [
        {
          "output_type": "stream",
          "name": "stdout",
          "text": [
            "Empty DataFrame\n",
            "Columns: [FirstName, LastName, salary, Email, duplicates]\n",
            "Index: []\n"
          ]
        }
      ]
    },
    {
      "cell_type": "code",
      "source": [
        "q63=\"\"\"delete from worker where ID not in (select max(ID) from worker Group By department,salary) \"\"\"\n",
        "print(ps.sqldf(q63))"
      ],
      "metadata": {
        "id": "lYhf0LiY4JAr",
        "colab": {
          "base_uri": "https://localhost:8080/"
        },
        "outputId": "489903fe-d2c4-4a6f-ff2a-ae81612fdef8"
      },
      "execution_count": 84,
      "outputs": [
        {
          "output_type": "stream",
          "name": "stdout",
          "text": [
            "None\n"
          ]
        }
      ]
    },
    {
      "cell_type": "markdown",
      "source": [
        "**Creating new table from worker table:**"
      ],
      "metadata": {
        "id": "sBf47eY5tYI3"
      }
    },
    {
      "cell_type": "code",
      "source": [
        "newtable=df.drop(columns=['ID','Email'])\n",
        "newtable"
      ],
      "metadata": {
        "id": "L4yyrNAvpnqN"
      },
      "execution_count": null,
      "outputs": []
    },
    {
      "cell_type": "markdown",
      "source": [
        "**TASK7:**"
      ],
      "metadata": {
        "id": "3xNYAfZW52rE"
      }
    },
    {
      "cell_type": "code",
      "source": [
        "q71=\"\"\"select * from worker where (ID % 2)=1 \"\"\"\n",
        "print(ps.sqldf(q71))"
      ],
      "metadata": {
        "id": "341YffGV57-5"
      },
      "execution_count": null,
      "outputs": []
    },
    {
      "cell_type": "code",
      "source": [
        "q72=\"\"\"CREATE TABLE new_table LIKE worker INSERT INTO new_table SELECT * FROM worker\"\"\" \n",
        "print(ps.sqldf(q72))"
      ],
      "metadata": {
        "id": "YDjnUZBw-t44"
      },
      "execution_count": null,
      "outputs": []
    },
    {
      "cell_type": "markdown",
      "source": [
        "**TASK8:**"
      ],
      "metadata": {
        "id": "ahtBPJTYEAhc"
      }
    },
    {
      "cell_type": "code",
      "source": [
        "q81=\"\"\"select department from worker where salary>30000 intersect select FirstName from worker where salary>=30000\"\"\"\n",
        "print(ps.sqldf(q81))"
      ],
      "metadata": {
        "id": "uscc8RjFC--v"
      },
      "execution_count": null,
      "outputs": []
    },
    {
      "cell_type": "code",
      "source": [
        "q82=\"\"\"SELECT department FROM newtable WHERE NOT EXISTS (SELECT * FROM worker WHERE worker.department = newtable.department)\"\"\"\n",
        "print(ps.sqldf(q82))"
      ],
      "metadata": {
        "colab": {
          "base_uri": "https://localhost:8080/"
        },
        "id": "fulEgJ0RO0sB",
        "outputId": "f1d24d60-32bb-4569-c751-4bfd9832e545"
      },
      "execution_count": 90,
      "outputs": [
        {
          "output_type": "stream",
          "name": "stdout",
          "text": [
            "Empty DataFrame\n",
            "Columns: [department]\n",
            "Index: []\n"
          ]
        }
      ]
    },
    {
      "cell_type": "markdown",
      "source": [
        "**TASK9:**"
      ],
      "metadata": {
        "id": "qOT0mX8TO4o7"
      }
    },
    {
      "cell_type": "code",
      "source": [
        "q91=\"\"\"select * from worker limit 15 \"\"\"\n",
        "print(ps.sqldf(q91))"
      ],
      "metadata": {
        "id": "ehRLTyySGge7",
        "colab": {
          "base_uri": "https://localhost:8080/"
        },
        "outputId": "89274346-373a-4683-f968-8a371ddadfeb"
      },
      "execution_count": 91,
      "outputs": [
        {
          "output_type": "stream",
          "name": "stdout",
          "text": [
            "    ID   FirstName      LastName                           Email department  \\\n",
            "0    1    banavath     gangaraju      banavathgangaraju@guvi.com      Admin   \n",
            "1    2     bandari  chandrakanth    bandarichandrakanth@guvi.com  Marketing   \n",
            "2    3     bhogadi        manasa          bhogadimanasa@guvi.com      sales   \n",
            "3    4     boddula      supreeth        boddulasupreeth@guvi.com         HR   \n",
            "4    5    chennuri        naveen         chennurinaveen@guvi.com   Purchase   \n",
            "5    6      kuturu    ananthasri       kuturuananthasri@guvi.com    Finance   \n",
            "6    7  mailapalli    sreeharsha  mailapallisreeharsha@gmail.com  Marketing   \n",
            "7    8     mengani        akshay          menganiakshay@guvi.com      sales   \n",
            "8    9    mohammed         nawaz          mohammednawaz@guvi.com         HR   \n",
            "9   10     rapelly    sandeepraj      rapellysandeepraj@guvi.com   Purchase   \n",
            "10  11  sandhulwar       sainath      sandhulwarsainath@guvi.com    Finance   \n",
            "11  12    sirigiri    chaithanya     sirigirichaithanya@guvi.com  Marketing   \n",
            "12  13      vemula      shravani         vemulashravani@guvi.com      sales   \n",
            "13  14       barla           sai               barlasai@guvi.com  Marketing   \n",
            "14  15    borampet    saikaushik     borampetsaikaushik@guvi.com      sales   \n",
            "\n",
            "    salary   Join Date  \n",
            "0    45000   3/20/2018  \n",
            "1    25000   2/15/2019  \n",
            "2    55000   2/20/2013  \n",
            "3    60000   3/20/2014  \n",
            "4    65000   2/15/2019  \n",
            "5    75000   2/20/2013  \n",
            "6    80000   2/15/2019  \n",
            "7    35000  01-10-2016  \n",
            "8    40000   3/20/2014  \n",
            "9    55000   2/15/2019  \n",
            "10   60000  08-10-2016  \n",
            "11   65000  02-07-2018  \n",
            "12   75000  05-05-2017  \n",
            "13   80000   2/20/2013  \n",
            "14   90000   3/20/2014  \n"
          ]
        }
      ]
    },
    {
      "cell_type": "code",
      "source": [
        "q92=\"\"\"SELECT salary from worker order by salary DESC limit 10\"\"\"\n",
        "print(ps.sqldf(q92))"
      ],
      "metadata": {
        "colab": {
          "base_uri": "https://localhost:8080/"
        },
        "id": "V3Zsj8E3H2Wo",
        "outputId": "76cfb0da-17a1-46c2-d35f-dbae79480b02"
      },
      "execution_count": 92,
      "outputs": [
        {
          "output_type": "stream",
          "name": "stdout",
          "text": [
            "   salary\n",
            "0  100000\n",
            "1   95000\n",
            "2   90000\n",
            "3   80000\n",
            "4   80000\n",
            "5   80000\n",
            "6   80000\n",
            "7   80000\n",
            "8   80000\n",
            "9   80000\n"
          ]
        }
      ]
    },
    {
      "cell_type": "markdown",
      "source": [
        "**TASK10:**"
      ],
      "metadata": {
        "id": "aiRO5IzAXsQR"
      }
    },
    {
      "cell_type": "code",
      "source": [
        "q01=\"\"\"SELECT salary FROM worker ORDER BY Salary DESC LIMIT 8-1,1 \"\"\"\n",
        "print(ps.sqldf(q01))"
      ],
      "metadata": {
        "id": "AA1JV-o9XxK9",
        "colab": {
          "base_uri": "https://localhost:8080/"
        },
        "outputId": "67e6c8d4-3832-4b7d-8b4c-c121791ad21d"
      },
      "execution_count": 99,
      "outputs": [
        {
          "output_type": "stream",
          "name": "stdout",
          "text": [
            "   salary\n",
            "0   80000\n"
          ]
        }
      ]
    },
    {
      "cell_type": "code",
      "source": [
        "q02=\"\"\"SELECT * FROM worker WHERE (salary IN (SELECT salary FROM worker GROUP BY salary HAVING COUNT(salary) > 1))\"\"\"\n",
        "print(ps.sqldf(q02))"
      ],
      "metadata": {
        "id": "vaxhPONMdkXo",
        "colab": {
          "base_uri": "https://localhost:8080/"
        },
        "outputId": "4f26882c-7eca-4fad-fa06-0f4690ac4c64"
      },
      "execution_count": 101,
      "outputs": [
        {
          "output_type": "stream",
          "name": "stdout",
          "text": [
            "    ID        FirstName      LastName                           Email  \\\n",
            "0    3          bhogadi        manasa          bhogadimanasa@guvi.com   \n",
            "1    4          boddula      supreeth        boddulasupreeth@guvi.com   \n",
            "2    5         chennuri        naveen         chennurinaveen@guvi.com   \n",
            "3    6           kuturu    ananthasri       kuturuananthasri@guvi.com   \n",
            "4    7       mailapalli    sreeharsha  mailapallisreeharsha@gmail.com   \n",
            "5   10          rapelly    sandeepraj      rapellysandeepraj@guvi.com   \n",
            "6   11       sandhulwar       sainath      sandhulwarsainath@guvi.com   \n",
            "7   12         sirigiri    chaithanya     sirigirichaithanya@guvi.com   \n",
            "8   13           vemula      shravani         vemulashravani@guvi.com   \n",
            "9   14            barla           sai               barlasai@guvi.com   \n",
            "10  17         eslavath        vamshi         eslavathvamshi@guvi.com   \n",
            "11  18           katuri    yedukndalu       katuriyedukndalu@guvi.com   \n",
            "12  19        nikhilesh           kar           nikhileshkar@guvi.com   \n",
            "13  20        patimeedi       srihari       patimeedisrihari@guvi.com   \n",
            "14  21          praveen        dhumal          praveendhumal@guvi.com   \n",
            "15  22          praveen         kumar           praveenkumar@guvi.com   \n",
            "16  23             alle         pawan              allepawan@guvi.com   \n",
            "17  24           bellam       revanth          bellamrevanth@guvi.com   \n",
            "18  25          boddani        ankith          boddaniankith@guvi.com   \n",
            "19  26  chennakeshavula        suresh  chennakeshavulasuresh@guvi.com   \n",
            "20  27      gundlapalli        vinith      gundlapallivinith@guvi.com   \n",
            "21  28       kothapalli         bhanu        kothapallibhanu@guvi.com   \n",
            "22  29             mohd       sophian            mohdsophian@guvi.com   \n",
            "23  33         chilkuri     srinivasa      chilkurisrinivasa@guvi.com   \n",
            "24  34           gamidi        eshwar           gamidieshwar@guvi.com   \n",
            "25  35       kandukoori           sai          kandukoorisai@guvi.com   \n",
            "26  36           kuthum      nagaraju        kuthumnagaraju@gmail.com   \n",
            "27  37           mateti        pranav           matetipranav@guvi.com   \n",
            "28  38          shivani         patel           shivanipatel@guvi.com   \n",
            "29  39            ninga         bhanu             ningabhanu@guvi.com   \n",
            "30  40            rohit          meka              rohitmeka@guvi.com   \n",
            "31  41      sigalapalli        naveen      sigalapallinaveen@guvi.com   \n",
            "32  42    tangellapally      nagaraju  tangellapallynagaraju@guvi.com   \n",
            "33  43            vadai      saikiran          vadaisaikiran@guvi.com   \n",
            "34  44           vaddla       aravind          vaddlaaravind@guvi.com   \n",
            "35  45         yesupogu         akhil          yesupoguakhil@guvi.com   \n",
            "36  46        samudrala    prashanthi    samudralaprashanthi@guvi.com   \n",
            "37  47         madhavan          None               madhavan@guvi.com   \n",
            "38  48              sai         kiran               saikiran@guvi.com   \n",
            "39  49            atike  purnachandar      atikepurnachandar@guvi.com   \n",
            "40  50          bandari      sahithya        bandarisahithya@guvi.com   \n",
            "\n",
            "   department  salary   Join Date  \n",
            "0       sales   55000   2/20/2013  \n",
            "1          HR   60000   3/20/2014  \n",
            "2    Purchase   65000   2/15/2019  \n",
            "3     Finance   75000   2/20/2013  \n",
            "4   Marketing   80000   2/15/2019  \n",
            "5    Purchase   55000   2/15/2019  \n",
            "6     Finance   60000  08-10-2016  \n",
            "7   Marketing   65000  02-07-2018  \n",
            "8       sales   75000  05-05-2017  \n",
            "9   Marketing   80000   2/20/2013  \n",
            "10   Purchase   55000   2/15/2019  \n",
            "11    Finance   60000   2/20/2014  \n",
            "12  Marketing   65000   2/20/2013  \n",
            "13      sales   75000   2/15/2019  \n",
            "14         HR   80000   2/20/2013  \n",
            "15   Purchase   55000   3/20/2021  \n",
            "16    Finance   60000   2/15/2019  \n",
            "17      Admin   65000  08-10-2016  \n",
            "18      sales   75000  02-07-2018  \n",
            "19         HR   80000  05-05-2017  \n",
            "20   Purchase   65000   2/20/2013  \n",
            "21    Finance   75000  03-07-2018  \n",
            "22      sales   80000   3/15/2019  \n",
            "23   Purchase   55000  02-07-2018  \n",
            "24    Finance   60000  05-05-2017  \n",
            "25  Marketing   65000   2/20/2013  \n",
            "26      sales   75000   2/15/2019  \n",
            "27         HR   80000   3/20/2021  \n",
            "28   Purchase   75000   2/15/2019  \n",
            "29    Finance   80000  08-10-2016  \n",
            "30      Admin   55000  02-07-2018  \n",
            "31  Marketing   60000  05-05-2017  \n",
            "32      sales   65000   2/20/2013  \n",
            "33  Marketing   75000  02-07-2018  \n",
            "34      sales   80000  05-05-2017  \n",
            "35         HR   65000   2/20/2013  \n",
            "36   Purchase   75000  05-04-2017  \n",
            "37    Finance   80000  08-10-2016  \n",
            "38  Marketing   75000  02-07-2018  \n",
            "39      sales   80000  05-05-2017  \n",
            "40         HR   75000  01-03-2016  \n"
          ]
        }
      ]
    }
  ]
}